{
  "nbformat": 4,
  "nbformat_minor": 0,
  "metadata": {
    "colab": {
      "provenance": [],
      "authorship_tag": "ABX9TyPMJNJeV3Zho6V/LmHwPlCS",
      "include_colab_link": true
    },
    "kernelspec": {
      "name": "python3",
      "display_name": "Python 3"
    },
    "language_info": {
      "name": "python"
    }
  },
  "cells": [
    {
      "cell_type": "markdown",
      "metadata": {
        "id": "view-in-github",
        "colab_type": "text"
      },
      "source": [
        "<a href=\"https://colab.research.google.com/github/a-subash/AIML/blob/main/cryptarithm.ipynb\" target=\"_parent\"><img src=\"https://colab.research.google.com/assets/colab-badge.svg\" alt=\"Open In Colab\"/></a>"
      ]
    },
    {
      "cell_type": "code",
      "execution_count": 1,
      "metadata": {
        "colab": {
          "base_uri": "https://localhost:8080/"
        },
        "id": "wk0tTF4qRmQ1",
        "outputId": "89c9a685-f3ed-4e99-824e-d97f1beb2b96"
      },
      "outputs": [
        {
          "output_type": "stream",
          "name": "stdout",
          "text": [
            "{'D': 7, 'E': 5, 'M': 1, 'N': 6, 'O': 0, 'R': 8, 'S': 9, 'Y': 2}\n"
          ]
        }
      ],
      "source": [
        "from itertools import permutations\n",
        "\n",
        "def solve_cryptarithm(word1, word2, result):\n",
        "    # Get all unique letters\n",
        "    unique_letters = sorted(set(word1 + word2 + result))\n",
        "\n",
        "    # Ensure we have at most 10 unique letters (0-9 digits available)\n",
        "    if len(unique_letters) > 10:\n",
        "        return \"Too many unique letters for a valid solution.\"\n",
        "\n",
        "    # Try all digit permutations\n",
        "    for perm in permutations(range(10), len(unique_letters)):\n",
        "        mapping = dict(zip(unique_letters, perm))\n",
        "\n",
        "        # Ensure no leading zeros\n",
        "        if mapping[word1[0]] == 0 or mapping[word2[0]] == 0 or mapping[result[0]] == 0:\n",
        "            continue\n",
        "\n",
        "        # Convert words to numbers\n",
        "        num1 = int(\"\".join(str(mapping[ch]) for ch in word1))\n",
        "        num2 = int(\"\".join(str(mapping[ch]) for ch in word2))\n",
        "        num_result = int(\"\".join(str(mapping[ch]) for ch in result))\n",
        "\n",
        "        # Check if the equation holds\n",
        "        if num1 + num2 == num_result:\n",
        "            return mapping  # Return the first valid solution found\n",
        "\n",
        "    return \"No solution found.\"\n",
        "\n",
        "# Example Usage\n",
        "word1 = \"SEND\"\n",
        "word2 = \"MORE\"\n",
        "result = \"MONEY\"\n",
        "\n",
        "solution = solve_cryptarithm(word1, word2, result)\n",
        "print(solution)"
      ]
    }
  ]
}