{
  "nbformat": 4,
  "nbformat_minor": 0,
  "metadata": {
    "colab": {
      "provenance": [],
      "include_colab_link": true
    },
    "kernelspec": {
      "name": "python3",
      "display_name": "Python 3"
    },
    "language_info": {
      "name": "python"
    }
  },
  "cells": [
    {
      "cell_type": "markdown",
      "metadata": {
        "id": "view-in-github",
        "colab_type": "text"
      },
      "source": [
        "<a href=\"https://colab.research.google.com/github/a-subash/AIML/blob/main/2320030207_Neural_Networks_14042025.ipynb\" target=\"_parent\"><img src=\"https://colab.research.google.com/assets/colab-badge.svg\" alt=\"Open In Colab\"/></a>"
      ]
    },
    {
      "cell_type": "code",
      "execution_count": 1,
      "metadata": {
        "colab": {
          "base_uri": "https://localhost:8080/"
        },
        "id": "PjQ_TFJkiZsX",
        "outputId": "ce751aa1-9ae2-4646-9ca3-85030f624947"
      },
      "outputs": [
        {
          "output_type": "stream",
          "name": "stdout",
          "text": [
            "OR Predictions: [0 1 1 1]\n"
          ]
        }
      ],
      "source": [
        "from sklearn.neural_network import MLPClassifier\n",
        "\n",
        "X = [[0,0], [0,1], [1,0], [1,1]]\n",
        "y = [0, 1, 1, 1]  # OR logic\n",
        "\n",
        "model = MLPClassifier(hidden_layer_sizes=(2,), activation='relu', solver='lbfgs', max_iter=1000)\n",
        "model.fit(X, y)\n",
        "\n",
        "print(\"OR Predictions:\", model.predict(X))"
      ]
    },
    {
      "cell_type": "code",
      "source": [
        "from sklearn.neural_network import MLPClassifier\n",
        "\n",
        "X = [[0,0], [0,1], [1,0], [1,1]]\n",
        "y = [0, 0, 0, 1]  # AND logic\n",
        "\n",
        "model = MLPClassifier(hidden_layer_sizes=(2,), activation='logistic', solver='lbfgs', max_iter=1000)\n",
        "model.fit(X, y)\n",
        "\n",
        "print(\"AND Predictions:\", model.predict(X))"
      ],
      "metadata": {
        "colab": {
          "base_uri": "https://localhost:8080/"
        },
        "id": "9c9PY_o4ifJF",
        "outputId": "abedff4f-6f45-43c6-e7bf-ef19b0ea2a5a"
      },
      "execution_count": 2,
      "outputs": [
        {
          "output_type": "stream",
          "name": "stdout",
          "text": [
            "AND Predictions: [0 0 0 1]\n"
          ]
        }
      ]
    },
    {
      "cell_type": "code",
      "source": [
        "from sklearn.neural_network import MLPClassifier\n",
        "\n",
        "X = [[0,0], [0,1], [1,0], [1,1]]\n",
        "y = [0, 1, 1, 0]  # XOR logic\n",
        "\n",
        "model = MLPClassifier(hidden_layer_sizes=(4,), activation='tanh', solver='lbfgs', max_iter=1000)\n",
        "model.fit(X, y)\n",
        "\n",
        "print(\"XOR Predictions:\", model.predict(X))"
      ],
      "metadata": {
        "colab": {
          "base_uri": "https://localhost:8080/"
        },
        "id": "y0qfWPzJih4Z",
        "outputId": "a29c6b54-9f52-4077-df28-83dbf294303d"
      },
      "execution_count": 3,
      "outputs": [
        {
          "output_type": "stream",
          "name": "stdout",
          "text": [
            "XOR Predictions: [0 1 1 0]\n"
          ]
        }
      ]
    }
  ]
}